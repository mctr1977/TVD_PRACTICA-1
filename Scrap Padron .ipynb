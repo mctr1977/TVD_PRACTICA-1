{
 "cells": [
  {
   "cell_type": "code",
   "execution_count": 147,
   "metadata": {},
   "outputs": [],
   "source": [
    "#importación librerias necesarias\n",
    "import re\n",
    "import os\n",
    "import urllib.request\n",
    "from bs4 import BeautifulSoup\n",
    "import csv\n",
    "#definicion de funcion para descargar una url\n",
    "def download(url):\n",
    "    return urllib.request.urlopen(url).read().decode('utf-8')"
   ]
  },
  {
   "cell_type": "code",
   "execution_count": 148,
   "metadata": {},
   "outputs": [],
   "source": [
    "#definición de función para abrir el fichero csv por primera vez y escribir la cabecera\n",
    "def cabecera(filePath):\n",
    "      with open(filePath, 'w', newline='') as csvFile:\n",
    "          writer = csv.writer(csvFile)\n",
    "          writer.writerow([\"Fecha\",\"Rango edad\",\"Número de hombres\",\"Número mujeres\"])"
   ]
  },
  {
   "cell_type": "code",
   "execution_count": 149,
   "metadata": {},
   "outputs": [],
   "source": [
    "#definición de función para escribir los datos del padron en el fichero\n",
    "def escribirFichero(url, filePath):\n",
    "    html = download(url)\n",
    "    edadF = re.findall('<edad edadFinal=\"(.*?)\"',html)\n",
    "    edadi = re.findall(' edadInicial=\"(.*?)\"',html)\n",
    "    numH= re.findall(' numHombres=\"(.*?)\"',html)\n",
    "    numM = re.findall(' numMujeres=\"(.*?)\"',html)\n",
    "    fecha = re.findall('<edades fecha=\"(.*?)\"',html)\n",
    "    with open(filePath, 'a', newline='') as csvFile:\n",
    "      writer = csv.writer(csvFile)\n",
    "      for i in (range(len(edadF))):\n",
    "        writer.writerow([fecha,edadi[i]+\"-\"+edadF[i], numH[i], numM[i]])"
   ]
  },
  {
   "cell_type": "code",
   "execution_count": 150,
   "metadata": {},
   "outputs": [],
   "source": [
    "#definición de funcion para a partir del parametro url2 (dirección de pagina web) buscar los links de datos que\n",
    "#vienen identificados porque empiezan todos por <p><a href\n",
    "def get_links(url2):\n",
    "        html = download(url2)\n",
    "        links_padron = []\n",
    "        tds = re.findall('<p><a href=\"(.*?)\">',html)\n",
    "        for td in tds:\n",
    "            #dar un formato válido a la url obtenida\n",
    "            tx = td.replace(\"amp;\", \"\")\n",
    "            links_padron.append(tx)\n",
    "        return links_padron"
   ]
  },
  {
   "cell_type": "code",
   "execution_count": 151,
   "metadata": {},
   "outputs": [
    {
     "name": "stdout",
     "output_type": "stream",
     "text": [
      "fin\n"
     ]
    }
   ],
   "source": [
    "#Principal:\n",
    "#A partir de la pagina web principal, se obtienen las urls.\n",
    "#Se escribe la cabecera del fichero\n",
    "#Por cada url obtenida en paso anterior se obtienen los datos requeridos\n",
    "url='http://www.ssreyes.org/es/portal.do?TR=C&IDR=358'\n",
    "currentDir = os.path.dirname(\"__file__\")\n",
    "filename = \"padron_sanse.csv\"\n",
    "filePath = os.path.join(currentDir, filename)\n",
    "get_links(url)\n",
    "cabecera(filePath)\n",
    "for lis in lista_padron:\n",
    "    escribirFichero(lis,filePath)\n",
    "print (\"fin\")"
   ]
  },
  {
   "cell_type": "code",
   "execution_count": null,
   "metadata": {},
   "outputs": [],
   "source": []
  },
  {
   "cell_type": "code",
   "execution_count": null,
   "metadata": {},
   "outputs": [],
   "source": []
  }
 ],
 "metadata": {
  "kernelspec": {
   "display_name": "Python 3",
   "language": "python",
   "name": "python3"
  },
  "language_info": {
   "codemirror_mode": {
    "name": "ipython",
    "version": 3
   },
   "file_extension": ".py",
   "mimetype": "text/x-python",
   "name": "python",
   "nbconvert_exporter": "python",
   "pygments_lexer": "ipython3",
   "version": "3.6.4"
  }
 },
 "nbformat": 4,
 "nbformat_minor": 2
}
